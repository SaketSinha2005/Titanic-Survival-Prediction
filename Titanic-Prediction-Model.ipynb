{
 "cells": [
  {
   "cell_type": "code",
   "execution_count": 1,
   "id": "a55d6d85-3d66-425f-b2f2-98ff2c797357",
   "metadata": {},
   "outputs": [],
   "source": [
    "import numpy as np\n",
    "import pandas as pd\n",
    "import os\n",
    "import matplotlib.pyplot as plt\n",
    "from sklearn.impute import SimpleImputer\n",
    "from sklearn.preprocessing import OneHotEncoder\n",
    "from sklearn.preprocessing import StandardScaler\n",
    "from sklearn.model_selection import cross_val_score\n",
    "from sklearn.linear_model import LogisticRegression\n",
    "from sklearn.metrics import accuracy_score"
   ]
  },
  {
   "cell_type": "code",
   "execution_count": 2,
   "id": "b1f40ece-08e7-434b-ac95-e090e7794c04",
   "metadata": {},
   "outputs": [],
   "source": [
    "pwd = os.getcwd()\n",
    "filepath1 = os.path.join(pwd, 'dataset/titanic.csv')\n",
    "filepath2 = os.path.join(pwd, 'dataset/test.csv')\n",
    "filepath3 = os.path.join(pwd, 'dataset/gender_submission.csv')"
   ]
  },
  {
   "cell_type": "code",
   "execution_count": 3,
   "id": "5d91d6ce-1ee6-4f3d-bf2c-d1c704a85a90",
   "metadata": {},
   "outputs": [],
   "source": [
    "df = pd.read_csv(filepath1)\n",
    "test_df = pd.read_csv(filepath2)\n",
    "nas_df = pd.read_csv(filepath3)"
   ]
  },
  {
   "cell_type": "code",
   "execution_count": 4,
   "id": "4cd99a84-e75a-43b9-896f-391418a6b9ba",
   "metadata": {},
   "outputs": [],
   "source": [
    "def data_cleaning(df):\n",
    "    df.drop(columns=['Unnamed: 0'], axis=1, inplace=True, errors='ignore')\n",
    "    df.drop(['Name', 'Cabin', 'Ticket'], axis=1, inplace=True)\n",
    "    df.dropna(subset=[\"Embarked\"], inplace=True)\n",
    "    imputer = SimpleImputer(strategy=\"median\")\n",
    "    df_num = df.select_dtypes(include=[np.number])\n",
    "    imputer.fit(df_num)\n",
    "    x=imputer.transform(df_num)\n",
    "    df[df_num.columns]=pd.DataFrame(x, columns=df_num.columns, index=df_num.index)\n",
    "    return df"
   ]
  },
  {
   "cell_type": "code",
   "execution_count": 5,
   "id": "97f4e100-3c1d-47a8-b262-013a3c5076af",
   "metadata": {},
   "outputs": [],
   "source": [
    "def one_hot_encode(df):\n",
    "    df_cat = df[[\"Sex\", \"Embarked\"]]\n",
    "    cat_encoder = OneHotEncoder(sparse_output=False)\n",
    "    df_cat_1hot = cat_encoder.fit_transform(df_cat)\n",
    "    feature_names = cat_encoder.get_feature_names_out([\"Sex\", \"Embarked\"])\n",
    "    new_df = pd.DataFrame(df_cat_1hot, columns=feature_names, index=df.index)\n",
    "    df.drop(['Sex', 'Embarked'], axis=1, inplace=True)\n",
    "    df = pd.concat([df, new_df], axis=1)\n",
    "    return df"
   ]
  },
  {
   "cell_type": "code",
   "execution_count": 6,
   "id": "93e60f90-a8a1-476b-b6b3-ff748b6b6002",
   "metadata": {},
   "outputs": [],
   "source": [
    "df = one_hot_encode(df)\n",
    "X_train = df.drop(\"Survived\", axis=1)\n",
    "y_train = df[\"Survived\"]"
   ]
  },
  {
   "cell_type": "code",
   "execution_count": 7,
   "id": "23c0fd1f-dfdc-425c-a849-6aa70bb8ad61",
   "metadata": {},
   "outputs": [],
   "source": [
    "test_df_cleaned = data_cleaning(test_df.copy())\n",
    "test_df_encoded = one_hot_encode(test_df_cleaned)"
   ]
  },
  {
   "cell_type": "code",
   "execution_count": 8,
   "id": "dfb15217-e84a-4d4c-820a-817cd90f72a4",
   "metadata": {},
   "outputs": [],
   "source": [
    "scaler = StandardScaler()\n",
    "X_train_scaled = scaler.fit_transform(X_train)\n",
    "X_test_scaled = scaler.transform(test_df_encoded)"
   ]
  },
  {
   "cell_type": "code",
   "execution_count": 9,
   "id": "365c8ae9-a56f-4a9e-a96e-1492554f1c1e",
   "metadata": {},
   "outputs": [
    {
     "name": "stdout",
     "output_type": "stream",
     "text": [
      "Cross-validation accuracies: [0.78089888 0.78651685 0.78089888 0.76966292 0.8079096 ]\n",
      "Mean CV accuracy: 0.7851774265219325\n"
     ]
    }
   ],
   "source": [
    "cv_scores = cross_val_score(LogisticRegression(max_iter=1000), X_train_scaled, y_train, cv=5)\n",
    "print(\"Cross-validation accuracies:\", cv_scores)\n",
    "print(\"Mean CV accuracy:\", cv_scores.mean())"
   ]
  },
  {
   "cell_type": "code",
   "execution_count": 10,
   "id": "04557581-5134-4a3b-9394-7f87073442c7",
   "metadata": {},
   "outputs": [],
   "source": [
    "log_reg = LogisticRegression()\n",
    "log_reg.fit(X_train_scaled, y_train)\n",
    "predictions = log_reg.predict(X_test_scaled)"
   ]
  },
  {
   "cell_type": "code",
   "execution_count": 12,
   "id": "dd0bcea2-ff33-4f14-a9b9-bd53e6a5c7c1",
   "metadata": {},
   "outputs": [
    {
     "name": "stdout",
     "output_type": "stream",
     "text": [
      "Accuracy: 0.937799043062201\n"
     ]
    }
   ],
   "source": [
    "y_true = nas_df[\"Survived\"]\n",
    "accuracy = accuracy_score(y_true, predictions)\n",
    "print(\"Accuracy:\", accuracy)"
   ]
  },
  {
   "cell_type": "code",
   "execution_count": 17,
   "id": "3be5a8d4-c0c8-454d-ab50-d1ec926a4600",
   "metadata": {},
   "outputs": [],
   "source": [
    "submission_df = pd.DataFrame({\n",
    "    'PassengerId': test_df['PassengerId'],  # Original IDs\n",
    "    'Survived': predictions.astype(int)     # Your model's output\n",
    "})\n",
    "\n",
    "submission_df.to_csv('submission.csv', index=False)"
   ]
  },
  {
   "cell_type": "code",
   "execution_count": null,
   "id": "045f185e-305e-4e90-b6e9-e67825c4a998",
   "metadata": {},
   "outputs": [],
   "source": []
  }
 ],
 "metadata": {
  "kernelspec": {
   "display_name": "Python 3 (ipykernel)",
   "language": "python",
   "name": "python3"
  },
  "language_info": {
   "codemirror_mode": {
    "name": "ipython",
    "version": 3
   },
   "file_extension": ".py",
   "mimetype": "text/x-python",
   "name": "python",
   "nbconvert_exporter": "python",
   "pygments_lexer": "ipython3",
   "version": "3.12.5"
  }
 },
 "nbformat": 4,
 "nbformat_minor": 5
}
